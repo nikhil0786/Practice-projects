{
 "cells": [
  {
   "cell_type": "code",
   "execution_count": 1,
   "metadata": {},
   "outputs": [],
   "source": [
    "import csv\n",
    "from sklearn.model_selection import train_test_split\n",
    "import pandas as pd\n",
    "import numpy as np\n",
    "from sklearn.preprocessing import LabelEncoder\n",
    "from sklearn.linear_model import LinearRegression\n",
    "import matplotlib.pyplot as plt\n",
    "from sklearn import metrics"
   ]
  },
  {
   "cell_type": "code",
   "execution_count": 2,
   "metadata": {},
   "outputs": [],
   "source": [
    "df=pd.read_csv('coronavirus.csv')"
   ]
  },
  {
   "cell_type": "code",
   "execution_count": 3,
   "metadata": {},
   "outputs": [
    {
     "data": {
      "text/html": [
       "<div>\n",
       "<style scoped>\n",
       "    .dataframe tbody tr th:only-of-type {\n",
       "        vertical-align: middle;\n",
       "    }\n",
       "\n",
       "    .dataframe tbody tr th {\n",
       "        vertical-align: top;\n",
       "    }\n",
       "\n",
       "    .dataframe thead th {\n",
       "        text-align: right;\n",
       "    }\n",
       "</style>\n",
       "<table border=\"1\" class=\"dataframe\">\n",
       "  <thead>\n",
       "    <tr style=\"text-align: right;\">\n",
       "      <th></th>\n",
       "      <th>Date</th>\n",
       "      <th>Country</th>\n",
       "      <th>Confirmed</th>\n",
       "      <th>Recovered</th>\n",
       "      <th>Deaths</th>\n",
       "    </tr>\n",
       "  </thead>\n",
       "  <tbody>\n",
       "    <tr>\n",
       "      <th>0</th>\n",
       "      <td>2020-01-22</td>\n",
       "      <td>Afghanistan</td>\n",
       "      <td>0</td>\n",
       "      <td>0</td>\n",
       "      <td>0</td>\n",
       "    </tr>\n",
       "    <tr>\n",
       "      <th>1</th>\n",
       "      <td>2020-01-22</td>\n",
       "      <td>Albania</td>\n",
       "      <td>0</td>\n",
       "      <td>0</td>\n",
       "      <td>0</td>\n",
       "    </tr>\n",
       "    <tr>\n",
       "      <th>2</th>\n",
       "      <td>2020-01-22</td>\n",
       "      <td>Algeria</td>\n",
       "      <td>0</td>\n",
       "      <td>0</td>\n",
       "      <td>0</td>\n",
       "    </tr>\n",
       "    <tr>\n",
       "      <th>3</th>\n",
       "      <td>2020-01-22</td>\n",
       "      <td>Andorra</td>\n",
       "      <td>0</td>\n",
       "      <td>0</td>\n",
       "      <td>0</td>\n",
       "    </tr>\n",
       "    <tr>\n",
       "      <th>4</th>\n",
       "      <td>2020-01-22</td>\n",
       "      <td>Angola</td>\n",
       "      <td>0</td>\n",
       "      <td>0</td>\n",
       "      <td>0</td>\n",
       "    </tr>\n",
       "    <tr>\n",
       "      <th>...</th>\n",
       "      <td>...</td>\n",
       "      <td>...</td>\n",
       "      <td>...</td>\n",
       "      <td>...</td>\n",
       "      <td>...</td>\n",
       "    </tr>\n",
       "    <tr>\n",
       "      <th>23683</th>\n",
       "      <td>2020-05-26</td>\n",
       "      <td>West Bank and Gaza</td>\n",
       "      <td>429</td>\n",
       "      <td>365</td>\n",
       "      <td>3</td>\n",
       "    </tr>\n",
       "    <tr>\n",
       "      <th>23684</th>\n",
       "      <td>2020-05-26</td>\n",
       "      <td>Western Sahara</td>\n",
       "      <td>9</td>\n",
       "      <td>6</td>\n",
       "      <td>1</td>\n",
       "    </tr>\n",
       "    <tr>\n",
       "      <th>23685</th>\n",
       "      <td>2020-05-26</td>\n",
       "      <td>Yemen</td>\n",
       "      <td>249</td>\n",
       "      <td>10</td>\n",
       "      <td>49</td>\n",
       "    </tr>\n",
       "    <tr>\n",
       "      <th>23686</th>\n",
       "      <td>2020-05-26</td>\n",
       "      <td>Zambia</td>\n",
       "      <td>920</td>\n",
       "      <td>336</td>\n",
       "      <td>7</td>\n",
       "    </tr>\n",
       "    <tr>\n",
       "      <th>23687</th>\n",
       "      <td>2020-05-26</td>\n",
       "      <td>Zimbabwe</td>\n",
       "      <td>56</td>\n",
       "      <td>25</td>\n",
       "      <td>4</td>\n",
       "    </tr>\n",
       "  </tbody>\n",
       "</table>\n",
       "<p>23688 rows × 5 columns</p>\n",
       "</div>"
      ],
      "text/plain": [
       "             Date             Country  Confirmed  Recovered  Deaths\n",
       "0      2020-01-22         Afghanistan          0          0       0\n",
       "1      2020-01-22             Albania          0          0       0\n",
       "2      2020-01-22             Algeria          0          0       0\n",
       "3      2020-01-22             Andorra          0          0       0\n",
       "4      2020-01-22              Angola          0          0       0\n",
       "...           ...                 ...        ...        ...     ...\n",
       "23683  2020-05-26  West Bank and Gaza        429        365       3\n",
       "23684  2020-05-26      Western Sahara          9          6       1\n",
       "23685  2020-05-26               Yemen        249         10      49\n",
       "23686  2020-05-26              Zambia        920        336       7\n",
       "23687  2020-05-26            Zimbabwe         56         25       4\n",
       "\n",
       "[23688 rows x 5 columns]"
      ]
     },
     "execution_count": 3,
     "metadata": {},
     "output_type": "execute_result"
    }
   ],
   "source": [
    "df"
   ]
  },
  {
   "cell_type": "code",
   "execution_count": 4,
   "metadata": {},
   "outputs": [
    {
     "data": {
      "text/plain": [
       "Index(['Date', 'Country', 'Confirmed', 'Recovered', 'Deaths'], dtype='object')"
      ]
     },
     "execution_count": 4,
     "metadata": {},
     "output_type": "execute_result"
    }
   ],
   "source": [
    "df.columns"
   ]
  },
  {
   "cell_type": "code",
   "execution_count": 5,
   "metadata": {},
   "outputs": [
    {
     "data": {
      "text/plain": [
       "Date         0\n",
       "Country      0\n",
       "Confirmed    0\n",
       "Recovered    0\n",
       "Deaths       0\n",
       "dtype: int64"
      ]
     },
     "execution_count": 5,
     "metadata": {},
     "output_type": "execute_result"
    }
   ],
   "source": [
    "df.isnull().sum()"
   ]
  },
  {
   "cell_type": "code",
   "execution_count": 6,
   "metadata": {},
   "outputs": [
    {
     "data": {
      "text/html": [
       "<div>\n",
       "<style scoped>\n",
       "    .dataframe tbody tr th:only-of-type {\n",
       "        vertical-align: middle;\n",
       "    }\n",
       "\n",
       "    .dataframe tbody tr th {\n",
       "        vertical-align: top;\n",
       "    }\n",
       "\n",
       "    .dataframe thead th {\n",
       "        text-align: right;\n",
       "    }\n",
       "</style>\n",
       "<table border=\"1\" class=\"dataframe\">\n",
       "  <thead>\n",
       "    <tr style=\"text-align: right;\">\n",
       "      <th></th>\n",
       "      <th>Confirmed</th>\n",
       "      <th>Recovered</th>\n",
       "      <th>Deaths</th>\n",
       "    </tr>\n",
       "  </thead>\n",
       "  <tbody>\n",
       "    <tr>\n",
       "      <th>count</th>\n",
       "      <td>2.368800e+04</td>\n",
       "      <td>23688.000000</td>\n",
       "      <td>23688.000000</td>\n",
       "    </tr>\n",
       "    <tr>\n",
       "      <th>mean</th>\n",
       "      <td>7.969368e+03</td>\n",
       "      <td>2581.801714</td>\n",
       "      <td>526.935030</td>\n",
       "    </tr>\n",
       "    <tr>\n",
       "      <th>std</th>\n",
       "      <td>5.842109e+04</td>\n",
       "      <td>15143.101257</td>\n",
       "      <td>3992.815956</td>\n",
       "    </tr>\n",
       "    <tr>\n",
       "      <th>min</th>\n",
       "      <td>0.000000e+00</td>\n",
       "      <td>0.000000</td>\n",
       "      <td>0.000000</td>\n",
       "    </tr>\n",
       "    <tr>\n",
       "      <th>25%</th>\n",
       "      <td>0.000000e+00</td>\n",
       "      <td>0.000000</td>\n",
       "      <td>0.000000</td>\n",
       "    </tr>\n",
       "    <tr>\n",
       "      <th>50%</th>\n",
       "      <td>1.800000e+01</td>\n",
       "      <td>1.000000</td>\n",
       "      <td>0.000000</td>\n",
       "    </tr>\n",
       "    <tr>\n",
       "      <th>75%</th>\n",
       "      <td>7.300000e+02</td>\n",
       "      <td>123.000000</td>\n",
       "      <td>13.000000</td>\n",
       "    </tr>\n",
       "    <tr>\n",
       "      <th>max</th>\n",
       "      <td>1.680913e+06</td>\n",
       "      <td>384902.000000</td>\n",
       "      <td>98913.000000</td>\n",
       "    </tr>\n",
       "  </tbody>\n",
       "</table>\n",
       "</div>"
      ],
      "text/plain": [
       "          Confirmed      Recovered        Deaths\n",
       "count  2.368800e+04   23688.000000  23688.000000\n",
       "mean   7.969368e+03    2581.801714    526.935030\n",
       "std    5.842109e+04   15143.101257   3992.815956\n",
       "min    0.000000e+00       0.000000      0.000000\n",
       "25%    0.000000e+00       0.000000      0.000000\n",
       "50%    1.800000e+01       1.000000      0.000000\n",
       "75%    7.300000e+02     123.000000     13.000000\n",
       "max    1.680913e+06  384902.000000  98913.000000"
      ]
     },
     "execution_count": 6,
     "metadata": {},
     "output_type": "execute_result"
    }
   ],
   "source": [
    "df.describe()"
   ]
  },
  {
   "cell_type": "code",
   "execution_count": 7,
   "metadata": {},
   "outputs": [],
   "source": [
    "import seaborn as sns"
   ]
  },
  {
   "cell_type": "code",
   "execution_count": 8,
   "metadata": {},
   "outputs": [
    {
     "data": {
      "text/plain": [
       "['Date', 'Country']"
      ]
     },
     "execution_count": 8,
     "metadata": {},
     "output_type": "execute_result"
    }
   ],
   "source": [
    "#checking for categorical attributes\n",
    "cat_col=[]\n",
    "for x in df.dtypes.index:\n",
    "    if df.dtypes[x]=='object':\n",
    "        cat_col.append(x)\n",
    "        \n",
    "cat_col        "
   ]
  },
  {
   "cell_type": "code",
   "execution_count": 9,
   "metadata": {},
   "outputs": [
    {
     "name": "stdout",
     "output_type": "stream",
     "text": [
      "Date\n",
      "2020-04-03    188\n",
      "2020-04-01    188\n",
      "2020-04-04    188\n",
      "2020-05-19    188\n",
      "2020-02-26    188\n",
      "             ... \n",
      "2020-05-01    188\n",
      "2020-02-13    188\n",
      "2020-04-19    188\n",
      "2020-02-08    188\n",
      "2020-02-16    188\n",
      "Name: Date, Length: 126, dtype: int64\n",
      "\n",
      "Country\n",
      "Pakistan                            126\n",
      "Burkina Faso                        126\n",
      "Honduras                            126\n",
      "Holy See                            126\n",
      "Bahamas                             126\n",
      "                                   ... \n",
      "Turkey                              126\n",
      "Saint Vincent and the Grenadines    126\n",
      "Philippines                         126\n",
      "Benin                               126\n",
      "Eswatini                            126\n",
      "Name: Country, Length: 188, dtype: int64\n",
      "\n"
     ]
    }
   ],
   "source": [
    "#print the categorical columns\n",
    "for col in cat_col:\n",
    "    print(col)\n",
    "    print(df[col].value_counts())\n",
    "    print()"
   ]
  },
  {
   "cell_type": "code",
   "execution_count": 10,
   "metadata": {},
   "outputs": [],
   "source": [
    "le=LabelEncoder()\n",
    "\n",
    "list1=['Date','Country']   #for labeling multiple columns\n",
    "for val in list1:\n",
    "    df[val]=le.fit_transform(df[val].astype(str))"
   ]
  },
  {
   "cell_type": "code",
   "execution_count": 11,
   "metadata": {},
   "outputs": [
    {
     "data": {
      "text/html": [
       "<div>\n",
       "<style scoped>\n",
       "    .dataframe tbody tr th:only-of-type {\n",
       "        vertical-align: middle;\n",
       "    }\n",
       "\n",
       "    .dataframe tbody tr th {\n",
       "        vertical-align: top;\n",
       "    }\n",
       "\n",
       "    .dataframe thead th {\n",
       "        text-align: right;\n",
       "    }\n",
       "</style>\n",
       "<table border=\"1\" class=\"dataframe\">\n",
       "  <thead>\n",
       "    <tr style=\"text-align: right;\">\n",
       "      <th></th>\n",
       "      <th>Date</th>\n",
       "      <th>Country</th>\n",
       "      <th>Confirmed</th>\n",
       "      <th>Recovered</th>\n",
       "      <th>Deaths</th>\n",
       "    </tr>\n",
       "  </thead>\n",
       "  <tbody>\n",
       "    <tr>\n",
       "      <th>0</th>\n",
       "      <td>0</td>\n",
       "      <td>0</td>\n",
       "      <td>0</td>\n",
       "      <td>0</td>\n",
       "      <td>0</td>\n",
       "    </tr>\n",
       "    <tr>\n",
       "      <th>1</th>\n",
       "      <td>0</td>\n",
       "      <td>1</td>\n",
       "      <td>0</td>\n",
       "      <td>0</td>\n",
       "      <td>0</td>\n",
       "    </tr>\n",
       "    <tr>\n",
       "      <th>2</th>\n",
       "      <td>0</td>\n",
       "      <td>2</td>\n",
       "      <td>0</td>\n",
       "      <td>0</td>\n",
       "      <td>0</td>\n",
       "    </tr>\n",
       "    <tr>\n",
       "      <th>3</th>\n",
       "      <td>0</td>\n",
       "      <td>3</td>\n",
       "      <td>0</td>\n",
       "      <td>0</td>\n",
       "      <td>0</td>\n",
       "    </tr>\n",
       "    <tr>\n",
       "      <th>4</th>\n",
       "      <td>0</td>\n",
       "      <td>4</td>\n",
       "      <td>0</td>\n",
       "      <td>0</td>\n",
       "      <td>0</td>\n",
       "    </tr>\n",
       "    <tr>\n",
       "      <th>...</th>\n",
       "      <td>...</td>\n",
       "      <td>...</td>\n",
       "      <td>...</td>\n",
       "      <td>...</td>\n",
       "      <td>...</td>\n",
       "    </tr>\n",
       "    <tr>\n",
       "      <th>23683</th>\n",
       "      <td>125</td>\n",
       "      <td>183</td>\n",
       "      <td>429</td>\n",
       "      <td>365</td>\n",
       "      <td>3</td>\n",
       "    </tr>\n",
       "    <tr>\n",
       "      <th>23684</th>\n",
       "      <td>125</td>\n",
       "      <td>184</td>\n",
       "      <td>9</td>\n",
       "      <td>6</td>\n",
       "      <td>1</td>\n",
       "    </tr>\n",
       "    <tr>\n",
       "      <th>23685</th>\n",
       "      <td>125</td>\n",
       "      <td>185</td>\n",
       "      <td>249</td>\n",
       "      <td>10</td>\n",
       "      <td>49</td>\n",
       "    </tr>\n",
       "    <tr>\n",
       "      <th>23686</th>\n",
       "      <td>125</td>\n",
       "      <td>186</td>\n",
       "      <td>920</td>\n",
       "      <td>336</td>\n",
       "      <td>7</td>\n",
       "    </tr>\n",
       "    <tr>\n",
       "      <th>23687</th>\n",
       "      <td>125</td>\n",
       "      <td>187</td>\n",
       "      <td>56</td>\n",
       "      <td>25</td>\n",
       "      <td>4</td>\n",
       "    </tr>\n",
       "  </tbody>\n",
       "</table>\n",
       "<p>23688 rows × 5 columns</p>\n",
       "</div>"
      ],
      "text/plain": [
       "       Date  Country  Confirmed  Recovered  Deaths\n",
       "0         0        0          0          0       0\n",
       "1         0        1          0          0       0\n",
       "2         0        2          0          0       0\n",
       "3         0        3          0          0       0\n",
       "4         0        4          0          0       0\n",
       "...     ...      ...        ...        ...     ...\n",
       "23683   125      183        429        365       3\n",
       "23684   125      184          9          6       1\n",
       "23685   125      185        249         10      49\n",
       "23686   125      186        920        336       7\n",
       "23687   125      187         56         25       4\n",
       "\n",
       "[23688 rows x 5 columns]"
      ]
     },
     "execution_count": 11,
     "metadata": {},
     "output_type": "execute_result"
    }
   ],
   "source": [
    "df"
   ]
  },
  {
   "cell_type": "code",
   "execution_count": 12,
   "metadata": {},
   "outputs": [
    {
     "data": {
      "text/html": [
       "<div>\n",
       "<style scoped>\n",
       "    .dataframe tbody tr th:only-of-type {\n",
       "        vertical-align: middle;\n",
       "    }\n",
       "\n",
       "    .dataframe tbody tr th {\n",
       "        vertical-align: top;\n",
       "    }\n",
       "\n",
       "    .dataframe thead th {\n",
       "        text-align: right;\n",
       "    }\n",
       "</style>\n",
       "<table border=\"1\" class=\"dataframe\">\n",
       "  <thead>\n",
       "    <tr style=\"text-align: right;\">\n",
       "      <th></th>\n",
       "      <th>Date</th>\n",
       "      <th>Country</th>\n",
       "      <th>Confirmed</th>\n",
       "      <th>Recovered</th>\n",
       "      <th>Deaths</th>\n",
       "    </tr>\n",
       "  </thead>\n",
       "  <tbody>\n",
       "    <tr>\n",
       "      <th>Date</th>\n",
       "      <td>1.000000</td>\n",
       "      <td>0.000000</td>\n",
       "      <td>0.146545</td>\n",
       "      <td>0.195824</td>\n",
       "      <td>0.145591</td>\n",
       "    </tr>\n",
       "    <tr>\n",
       "      <th>Country</th>\n",
       "      <td>0.000000</td>\n",
       "      <td>1.000000</td>\n",
       "      <td>0.069204</td>\n",
       "      <td>0.019298</td>\n",
       "      <td>0.064954</td>\n",
       "    </tr>\n",
       "    <tr>\n",
       "      <th>Confirmed</th>\n",
       "      <td>0.146545</td>\n",
       "      <td>0.069204</td>\n",
       "      <td>1.000000</td>\n",
       "      <td>0.810991</td>\n",
       "      <td>0.929718</td>\n",
       "    </tr>\n",
       "    <tr>\n",
       "      <th>Recovered</th>\n",
       "      <td>0.195824</td>\n",
       "      <td>0.019298</td>\n",
       "      <td>0.810991</td>\n",
       "      <td>1.000000</td>\n",
       "      <td>0.778094</td>\n",
       "    </tr>\n",
       "    <tr>\n",
       "      <th>Deaths</th>\n",
       "      <td>0.145591</td>\n",
       "      <td>0.064954</td>\n",
       "      <td>0.929718</td>\n",
       "      <td>0.778094</td>\n",
       "      <td>1.000000</td>\n",
       "    </tr>\n",
       "  </tbody>\n",
       "</table>\n",
       "</div>"
      ],
      "text/plain": [
       "               Date   Country  Confirmed  Recovered    Deaths\n",
       "Date       1.000000  0.000000   0.146545   0.195824  0.145591\n",
       "Country    0.000000  1.000000   0.069204   0.019298  0.064954\n",
       "Confirmed  0.146545  0.069204   1.000000   0.810991  0.929718\n",
       "Recovered  0.195824  0.019298   0.810991   1.000000  0.778094\n",
       "Deaths     0.145591  0.064954   0.929718   0.778094  1.000000"
      ]
     },
     "execution_count": 12,
     "metadata": {},
     "output_type": "execute_result"
    }
   ],
   "source": [
    "df.corr()"
   ]
  },
  {
   "cell_type": "code",
   "execution_count": 13,
   "metadata": {},
   "outputs": [
    {
     "data": {
      "text/plain": [
       "<matplotlib.axes._subplots.AxesSubplot at 0x197ea922be0>"
      ]
     },
     "execution_count": 13,
     "metadata": {},
     "output_type": "execute_result"
    },
    {
     "data": {
      "image/png": "[encoded data removed]",
      "text/plain": [
       "<Figure size 1080x504 with 2 Axes>"
      ]
     },
     "metadata": {
      "needs_background": "light"
     },
     "output_type": "display_data"
    }
   ],
   "source": [
    "import matplotlib.pyplot as plt\n",
    "plt.figure(figsize=(15,7))\n",
    "sns.heatmap(df.corr(), annot=True, linewidth=0.5,linecolor='black',fmt='.2f')"
   ]
  },
  {
   "cell_type": "code",
   "execution_count": 14,
   "metadata": {},
   "outputs": [
    {
     "data": {
      "text/plain": [
       "<matplotlib.axes._subplots.AxesSubplot at 0x197eb358370>"
      ]
     },
     "execution_count": 14,
     "metadata": {},
     "output_type": "execute_result"
    },
    {
     "data": {
      "image/png": "[encoded data removed]",
      "text/plain": [
       "<Figure size 432x288 with 1 Axes>"
      ]
     },
     "metadata": {
      "needs_background": "light"
     },
     "output_type": "display_data"
    }
   ],
   "source": [
    "import seaborn as sns\n",
    "sns.distplot(df['Confirmed'])"
   ]
  },
  {
   "cell_type": "code",
   "execution_count": 15,
   "metadata": {},
   "outputs": [
    {
     "data": {
      "text/plain": [
       "<matplotlib.axes._subplots.AxesSubplot at 0x197eb19e640>"
      ]
     },
     "execution_count": 15,
     "metadata": {},
     "output_type": "execute_result"
    },
    {
     "data": {
      "image/png": "[encoded data removed]",
      "text/plain": [
       "<Figure size 432x288 with 1 Axes>"
      ]
     },
     "metadata": {
      "needs_background": "light"
     },
     "output_type": "display_data"
    }
   ],
   "source": [
    "sns.distplot(df['Recovered'])"
   ]
  },
  {
   "cell_type": "code",
   "execution_count": 16,
   "metadata": {},
   "outputs": [
    {
     "data": {
      "text/plain": [
       "(23688, 5)"
      ]
     },
     "execution_count": 16,
     "metadata": {},
     "output_type": "execute_result"
    }
   ],
   "source": [
    "from scipy.stats import zscore\n",
    "import numpy as np\n",
    "z=np.abs(zscore(df))\n",
    "z.shape"
   ]
  },
  {
   "cell_type": "code",
   "execution_count": 17,
   "metadata": {},
   "outputs": [
    {
     "name": "stdout",
     "output_type": "stream",
     "text": [
      "(array([ 7932,  8120,  8308,  8496,  8684,  8872,  9060,  9248,  9436,\n",
      "        9624,  9812, 10000, 10188, 10376, 10564, 10752, 10940, 11128,\n",
      "       11316, 11504, 11692, 11880, 12068, 12256, 12444, 12632, 12820,\n",
      "       13008, 13146, 13196, 13245, 13334, 13384, 13433, 13522, 13572,\n",
      "       13621, 13710, 13760, 13809, 13898, 13948, 13997, 14070, 14086,\n",
      "       14136, 14185, 14258, 14274, 14274, 14324, 14373, 14446, 14462,\n",
      "       14462, 14512, 14561, 14634, 14634, 14650, 14650, 14700, 14730,\n",
      "       14749, 14822, 14822, 14838, 14838, 14888, 14914, 14918, 14937,\n",
      "       15010, 15010, 15026, 15026, 15076, 15102, 15106, 15125, 15198,\n",
      "       15198, 15214, 15214, 15264, 15290, 15294, 15313, 15386, 15386,\n",
      "       15402, 15402, 15452, 15478, 15482, 15501, 15574, 15574, 15590,\n",
      "       15590, 15594, 15640, 15666, 15670, 15685, 15689, 15762, 15762,\n",
      "       15778, 15778, 15782, 15828, 15854, 15858, 15873, 15877, 15950,\n",
      "       15950, 15966, 15966, 15966, 15970, 16016, 16042, 16046, 16061,\n",
      "       16065, 16138, 16138, 16138, 16154, 16154, 16154, 16158, 16204,\n",
      "       16230, 16234, 16249, 16253, 16326, 16326, 16326, 16342, 16342,\n",
      "       16342, 16346, 16392, 16418, 16422, 16437, 16441, 16514, 16514,\n",
      "       16514, 16530, 16530, 16530, 16534, 16580, 16606, 16610, 16625,\n",
      "       16629, 16702, 16702, 16702, 16718, 16718, 16718, 16722, 16768,\n",
      "       16794, 16798, 16813, 16817, 16817, 16890, 16890, 16890, 16906,\n",
      "       16906, 16906, 16910, 16956, 16982, 16986, 17001, 17005, 17005,\n",
      "       17005, 17078, 17078, 17078, 17094, 17094, 17094, 17098, 17144,\n",
      "       17170, 17174, 17189, 17193, 17193, 17193, 17266, 17266, 17266,\n",
      "       17282, 17282, 17282, 17286, 17332, 17358, 17362, 17377, 17381,\n",
      "       17381, 17381, 17454, 17454, 17454, 17470, 17470, 17470, 17474,\n",
      "       17520, 17546, 17550, 17565, 17569, 17569, 17569, 17642, 17642,\n",
      "       17642, 17658, 17658, 17658, 17662, 17708, 17734, 17738, 17753,\n",
      "       17757, 17757, 17757, 17830, 17830, 17830, 17846, 17846, 17846,\n",
      "       17850, 17896, 17922, 17926, 17941, 17945, 17945, 17945, 18018,\n",
      "       18018, 18018, 18034, 18034, 18034, 18038, 18084, 18110, 18114,\n",
      "       18129, 18133, 18133, 18133, 18206, 18206, 18206, 18222, 18222,\n",
      "       18222, 18226, 18272, 18298, 18302, 18317, 18321, 18321, 18321,\n",
      "       18394, 18394, 18394, 18410, 18410, 18410, 18414, 18460, 18486,\n",
      "       18486, 18490, 18505, 18509, 18509, 18509, 18582, 18582, 18582,\n",
      "       18598, 18598, 18598, 18602, 18648, 18674, 18674, 18678, 18693,\n",
      "       18697, 18697, 18697, 18770, 18770, 18770, 18785, 18786, 18786,\n",
      "       18786, 18790, 18836, 18862, 18862, 18866, 18881, 18885, 18885,\n",
      "       18885, 18958, 18958, 18958, 18973, 18974, 18974, 18974, 18978,\n",
      "       19024, 19050, 19050, 19054, 19069, 19073, 19073, 19073, 19146,\n",
      "       19146, 19146, 19161, 19162, 19162, 19162, 19166, 19166, 19212,\n",
      "       19238, 19238, 19242, 19257, 19261, 19261, 19261, 19334, 19334,\n",
      "       19334, 19349, 19350, 19350, 19350, 19354, 19354, 19400, 19426,\n",
      "       19426, 19430, 19445, 19449, 19449, 19449, 19522, 19522, 19522,\n",
      "       19537, 19538, 19538, 19538, 19542, 19542, 19575, 19588, 19614,\n",
      "       19614, 19618, 19633, 19637, 19637, 19637, 19710, 19710, 19710,\n",
      "       19725, 19726, 19726, 19726, 19730, 19730, 19763, 19776, 19802,\n",
      "       19802, 19806, 19821, 19825, 19825, 19825, 19898, 19898, 19898,\n",
      "       19913, 19914, 19914, 19914, 19918, 19918, 19951, 19964, 19990,\n",
      "       19990, 19994, 20009, 20013, 20013, 20013, 20086, 20086, 20086,\n",
      "       20101, 20102, 20102, 20102, 20106, 20106, 20139, 20152, 20178,\n",
      "       20178, 20182, 20197, 20201, 20201, 20201, 20256, 20274, 20274,\n",
      "       20274, 20289, 20290, 20290, 20290, 20294, 20294, 20327, 20340,\n",
      "       20366, 20366, 20370, 20385, 20389, 20389, 20389, 20444, 20462,\n",
      "       20462, 20462, 20477, 20478, 20478, 20478, 20482, 20482, 20515,\n",
      "       20528, 20554, 20554, 20558, 20573, 20577, 20577, 20577, 20632,\n",
      "       20650, 20650, 20650, 20665, 20666, 20666, 20666, 20670, 20670,\n",
      "       20703, 20716, 20742, 20742, 20746, 20761, 20765, 20765, 20765,\n",
      "       20820, 20838, 20838, 20838, 20853, 20854, 20854, 20854, 20858,\n",
      "       20858, 20891, 20904, 20930, 20930, 20934, 20949, 20953, 20953,\n",
      "       20953, 21008, 21026, 21026, 21026, 21041, 21042, 21042, 21042,\n",
      "       21046, 21046, 21079, 21079, 21079, 21092, 21118, 21118, 21122,\n",
      "       21137, 21141, 21141, 21141, 21196, 21214, 21214, 21214, 21229,\n",
      "       21230, 21230, 21230, 21234, 21234, 21267, 21267, 21267, 21280,\n",
      "       21306, 21306, 21310, 21325, 21329, 21329, 21329, 21384, 21384,\n",
      "       21402, 21402, 21402, 21417, 21418, 21418, 21418, 21422, 21422,\n",
      "       21455, 21455, 21455, 21468, 21494, 21494, 21498, 21513, 21517,\n",
      "       21517, 21517, 21572, 21572, 21590, 21590, 21590, 21605, 21606,\n",
      "       21606, 21606, 21610, 21610, 21643, 21643, 21643, 21656, 21682,\n",
      "       21682, 21686, 21701, 21705, 21705, 21705, 21760, 21760, 21778,\n",
      "       21778, 21778, 21793, 21794, 21794, 21794, 21798, 21798, 21831,\n",
      "       21831, 21831, 21844, 21870, 21870, 21874, 21889, 21893, 21893,\n",
      "       21893, 21948, 21948, 21966, 21966, 21966, 21981, 21982, 21982,\n",
      "       21982, 21986, 21986, 22019, 22019, 22019, 22032, 22058, 22058,\n",
      "       22062, 22077, 22081, 22081, 22081, 22136, 22136, 22154, 22154,\n",
      "       22154, 22169, 22170, 22170, 22170, 22174, 22174, 22207, 22207,\n",
      "       22207, 22220, 22246, 22246, 22250, 22265, 22269, 22269, 22269,\n",
      "       22324, 22324, 22342, 22342, 22342, 22357, 22358, 22358, 22358,\n",
      "       22362, 22362, 22395, 22395, 22395, 22408, 22434, 22434, 22438,\n",
      "       22453, 22457, 22457, 22457, 22512, 22512, 22530, 22530, 22530,\n",
      "       22545, 22546, 22546, 22546, 22550, 22550, 22583, 22583, 22583,\n",
      "       22596, 22622, 22622, 22626, 22639, 22641, 22645, 22645, 22645,\n",
      "       22700, 22700, 22718, 22718, 22718, 22733, 22734, 22734, 22734,\n",
      "       22738, 22738, 22771, 22771, 22771, 22784, 22810, 22810, 22814,\n",
      "       22827, 22829, 22833, 22833, 22833, 22888, 22888, 22906, 22906,\n",
      "       22906, 22921, 22922, 22922, 22922, 22926, 22926, 22959, 22959,\n",
      "       22959, 22972, 22998, 22998, 23002, 23015, 23017, 23021, 23021,\n",
      "       23021, 23076, 23076, 23094, 23094, 23094, 23109, 23110, 23110,\n",
      "       23110, 23114, 23114, 23147, 23147, 23147, 23160, 23186, 23186,\n",
      "       23190, 23203, 23205, 23209, 23209, 23209, 23258, 23264, 23264,\n",
      "       23282, 23282, 23282, 23297, 23298, 23298, 23298, 23302, 23302,\n",
      "       23335, 23335, 23335, 23348, 23374, 23374, 23378, 23391, 23393,\n",
      "       23397, 23397, 23397, 23425, 23446, 23452, 23452, 23470, 23470,\n",
      "       23470, 23485, 23486, 23486, 23486, 23490, 23490, 23523, 23523,\n",
      "       23523, 23536, 23562, 23562, 23566, 23579, 23581, 23585, 23585,\n",
      "       23585, 23613, 23634, 23640, 23640, 23647, 23658, 23658, 23658,\n",
      "       23673, 23674, 23674, 23674, 23678, 23678], dtype=int64), array([3, 3, 3, 3, 3, 3, 3, 3, 3, 3, 3, 3, 3, 3, 3, 3, 3, 3, 3, 3, 3, 3,\n",
      "       3, 3, 3, 3, 3, 3, 2, 3, 4, 2, 3, 4, 2, 3, 4, 2, 3, 4, 2, 3, 4, 4,\n",
      "       2, 3, 4, 4, 2, 4, 3, 4, 4, 2, 4, 3, 4, 3, 4, 2, 4, 3, 3, 4, 3, 4,\n",
      "       2, 4, 3, 4, 3, 4, 3, 4, 2, 4, 3, 4, 3, 4, 3, 4, 2, 4, 3, 4, 3, 4,\n",
      "       3, 4, 2, 4, 3, 4, 3, 4, 3, 4, 2, 4, 4, 3, 4, 3, 3, 4, 3, 4, 2, 4,\n",
      "       4, 3, 4, 3, 3, 4, 3, 4, 2, 3, 4, 4, 3, 4, 3, 3, 4, 2, 3, 4, 2, 3,\n",
      "       4, 4, 3, 4, 3, 3, 4, 2, 3, 4, 2, 3, 4, 4, 3, 4, 3, 3, 4, 2, 3, 4,\n",
      "       2, 3, 4, 4, 3, 4, 3, 3, 4, 2, 3, 4, 2, 3, 4, 4, 3, 4, 3, 3, 3, 4,\n",
      "       2, 3, 4, 2, 3, 4, 4, 3, 4, 3, 3, 2, 3, 4, 2, 3, 4, 2, 3, 4, 4, 3,\n",
      "       4, 3, 3, 2, 3, 4, 2, 3, 4, 2, 3, 4, 4, 3, 4, 3, 3, 2, 3, 4, 2, 3,\n",
      "       4, 2, 3, 4, 4, 3, 4, 3, 3, 2, 3, 4, 2, 3, 4, 2, 3, 4, 4, 3, 4, 3,\n",
      "       3, 2, 3, 4, 2, 3, 4, 2, 3, 4, 4, 3, 4, 3, 3, 2, 3, 4, 2, 3, 4, 2,\n",
      "       3, 4, 4, 3, 4, 3, 3, 2, 3, 4, 2, 3, 4, 2, 3, 4, 4, 3, 4, 3, 3, 2,\n",
      "       3, 4, 2, 3, 4, 2, 3, 4, 4, 3, 3, 4, 3, 3, 2, 3, 4, 2, 3, 4, 2, 3,\n",
      "       4, 4, 3, 3, 4, 3, 3, 2, 3, 4, 2, 3, 4, 3, 2, 3, 4, 4, 3, 3, 4, 3,\n",
      "       3, 2, 3, 4, 2, 3, 4, 3, 2, 3, 4, 4, 3, 3, 4, 3, 3, 2, 3, 4, 2, 3,\n",
      "       4, 3, 2, 3, 4, 2, 4, 3, 3, 4, 3, 3, 2, 3, 4, 2, 3, 4, 3, 2, 3, 4,\n",
      "       2, 4, 3, 3, 4, 3, 3, 2, 3, 4, 2, 3, 4, 3, 2, 3, 4, 2, 4, 3, 3, 3,\n",
      "       4, 3, 3, 2, 3, 4, 2, 3, 4, 3, 2, 3, 4, 2, 4, 3, 3, 3, 4, 3, 3, 2,\n",
      "       3, 4, 2, 3, 4, 3, 2, 3, 4, 2, 4, 3, 3, 3, 4, 3, 3, 2, 3, 4, 2, 3,\n",
      "       4, 3, 2, 3, 4, 2, 4, 3, 3, 3, 4, 3, 3, 2, 3, 4, 2, 2, 3, 4, 3, 2,\n",
      "       3, 4, 2, 4, 3, 3, 3, 4, 3, 3, 2, 3, 4, 2, 2, 3, 4, 3, 2, 3, 4, 2,\n",
      "       4, 3, 3, 3, 4, 3, 3, 2, 3, 4, 2, 2, 3, 4, 3, 2, 3, 4, 2, 4, 3, 3,\n",
      "       3, 4, 3, 3, 2, 3, 4, 2, 2, 3, 4, 3, 2, 3, 4, 2, 4, 3, 3, 3, 4, 3,\n",
      "       3, 2, 3, 4, 2, 2, 3, 4, 3, 2, 3, 4, 2, 4, 2, 3, 4, 3, 3, 4, 3, 3,\n",
      "       2, 3, 4, 2, 2, 3, 4, 3, 2, 3, 4, 2, 4, 2, 3, 4, 3, 3, 4, 3, 3, 2,\n",
      "       3, 4, 2, 3, 2, 3, 4, 3, 2, 3, 4, 2, 4, 2, 3, 4, 3, 3, 4, 3, 3, 2,\n",
      "       3, 4, 2, 3, 2, 3, 4, 3, 2, 3, 4, 2, 4, 2, 3, 4, 3, 3, 4, 3, 3, 2,\n",
      "       3, 4, 2, 3, 2, 3, 4, 3, 2, 3, 4, 2, 4, 2, 3, 4, 3, 3, 4, 3, 3, 2,\n",
      "       3, 4, 2, 3, 2, 3, 4, 3, 2, 3, 4, 2, 4, 2, 3, 4, 3, 3, 4, 3, 3, 2,\n",
      "       3, 4, 2, 3, 2, 3, 4, 3, 2, 3, 4, 2, 4, 2, 3, 4, 3, 3, 4, 3, 3, 2,\n",
      "       3, 4, 2, 3, 2, 3, 4, 3, 2, 3, 4, 2, 4, 2, 3, 4, 3, 3, 4, 3, 3, 2,\n",
      "       3, 4, 2, 3, 2, 3, 4, 3, 2, 3, 4, 2, 4, 2, 3, 4, 3, 3, 4, 3, 3, 3,\n",
      "       2, 3, 4, 2, 3, 2, 3, 4, 3, 2, 3, 4, 2, 4, 2, 3, 4, 3, 3, 4, 3, 3,\n",
      "       3, 2, 3, 4, 2, 3, 2, 3, 4, 3, 2, 3, 4, 2, 4, 2, 3, 4, 3, 3, 4, 3,\n",
      "       3, 3, 2, 3, 4, 2, 3, 2, 3, 4, 3, 2, 3, 4, 2, 4, 2, 3, 4, 3, 3, 4,\n",
      "       3, 3, 3, 2, 3, 4, 3, 2, 3, 2, 3, 4, 3, 2, 3, 4, 2, 4, 2, 3, 4, 3,\n",
      "       3, 4, 3, 3, 3, 2, 3, 4, 3, 3, 2, 3, 2, 3, 4, 3, 2, 3, 4, 2, 4, 2,\n",
      "       3, 4, 3, 3, 4, 3, 3, 3, 2, 3, 4, 3, 3, 2, 3, 3, 2, 3, 4, 3, 2, 3,\n",
      "       4, 2, 4], dtype=int64))\n"
     ]
    }
   ],
   "source": [
    "threshold=3\n",
    "print(np.where(z>3))"
   ]
  },
  {
   "cell_type": "code",
   "execution_count": 18,
   "metadata": {},
   "outputs": [
    {
     "name": "stdout",
     "output_type": "stream",
     "text": [
      "(23688, 5)\n",
      "(23177, 5)\n"
     ]
    }
   ],
   "source": [
    "df_new=df[(z<3).all(axis=1)]\n",
    "print(df.shape)\n",
    "print(df_new.shape)"
   ]
  },
  {
   "cell_type": "code",
   "execution_count": 19,
   "metadata": {},
   "outputs": [
    {
     "name": "stdout",
     "output_type": "stream",
     "text": [
      "2.157210401891253\n"
     ]
    }
   ],
   "source": [
    "loss_percent=(23688-23177)/23688*100\n",
    "print(loss_percent)"
   ]
  },
  {
   "cell_type": "code",
   "execution_count": 20,
   "metadata": {},
   "outputs": [
    {
     "data": {
      "text/plain": [
       "Date         0.028720\n",
       "Country     -0.005144\n",
       "Confirmed    6.906829\n",
       "Recovered    7.472281\n",
       "Deaths       9.729360\n",
       "dtype: float64"
      ]
     },
     "execution_count": 20,
     "metadata": {},
     "output_type": "execute_result"
    }
   ],
   "source": [
    "df_new.skew()"
   ]
  },
  {
   "cell_type": "code",
   "execution_count": 21,
   "metadata": {},
   "outputs": [
    {
     "name": "stderr",
     "output_type": "stream",
     "text": [
      "<ipython-input-21-42b59d7a30be>:2: SettingWithCopyWarning: \n",
      "A value is trying to be set on a copy of a slice from a DataFrame.\n",
      "Try using .loc[row_indexer,col_indexer] = value instead\n",
      "\n",
      "See the caveats in the documentation: https://pandas.pydata.org/pandas-docs/stable/user_guide/indexing.html#returning-a-view-versus-a-copy\n",
      "  df_new['Deaths'] = np.log(1+df['Deaths'])\n"
     ]
    }
   ],
   "source": [
    "#log transformation\n",
    "df_new['Deaths'] = np.log(1+df['Deaths'])"
   ]
  },
  {
   "cell_type": "code",
   "execution_count": 22,
   "metadata": {},
   "outputs": [
    {
     "data": {
      "text/plain": [
       "<matplotlib.axes._subplots.AxesSubplot at 0x197eb277b80>"
      ]
     },
     "execution_count": 22,
     "metadata": {},
     "output_type": "execute_result"
    },
    {
     "data": {
      "image/png": "[encoded data removed]",
      "text/plain": [
       "<Figure size 432x288 with 1 Axes>"
      ]
     },
     "metadata": {
      "needs_background": "light"
     },
     "output_type": "display_data"
    }
   ],
   "source": [
    "sns.distplot(df_new['Deaths'])"
   ]
  },
  {
   "cell_type": "code",
   "execution_count": 23,
   "metadata": {},
   "outputs": [],
   "source": [
    "x=df_new.drop('Deaths',axis=1)\n",
    "y=df_new['Deaths']"
   ]
  },
  {
   "cell_type": "code",
   "execution_count": 24,
   "metadata": {},
   "outputs": [
    {
     "name": "stderr",
     "output_type": "stream",
     "text": [
      "<ipython-input-24-f55f641c6809>:1: SettingWithCopyWarning: \n",
      "A value is trying to be set on a copy of a slice from a DataFrame.\n",
      "Try using .loc[row_indexer,col_indexer] = value instead\n",
      "\n",
      "See the caveats in the documentation: https://pandas.pydata.org/pandas-docs/stable/user_guide/indexing.html#returning-a-view-versus-a-copy\n",
      "  df_new['Recovered'] = np.log(1+df['Recovered'])\n"
     ]
    }
   ],
   "source": [
    "df_new['Recovered'] = np.log(1+df['Recovered'])"
   ]
  },
  {
   "cell_type": "code",
   "execution_count": null,
   "metadata": {},
   "outputs": [],
   "source": []
  },
  {
   "cell_type": "code",
   "execution_count": null,
   "metadata": {},
   "outputs": [],
   "source": []
  },
  {
   "cell_type": "code",
   "execution_count": null,
   "metadata": {},
   "outputs": [],
   "source": []
  },
  {
   "cell_type": "code",
   "execution_count": 25,
   "metadata": {},
   "outputs": [],
   "source": [
    "from sklearn.model_selection import train_test_split\n",
    "from sklearn.linear_model import LinearRegression\n",
    "lr=LinearRegression()\n",
    "from sklearn.metrics import r2_score"
   ]
  },
  {
   "cell_type": "code",
   "execution_count": 26,
   "metadata": {},
   "outputs": [
    {
     "name": "stdout",
     "output_type": "stream",
     "text": [
      "At random state 36 the model performs well\n",
      "At random state:- 36\n",
      "Training r2 score is:- 62.23607311839552\n",
      "Testing r2 score is:- 62.22046608376284\n",
      "At random state 57 the model performs well\n",
      "At random state:- 57\n",
      "Training r2 score is:- 62.2300913642404\n",
      "Testing r2 score is:- 62.215420325935455\n",
      "At random state 71 the model performs well\n",
      "At random state:- 71\n",
      "Training r2 score is:- 62.22194770069447\n",
      "Testing r2 score is:- 62.23705522010575\n",
      "At random state 133 the model performs well\n",
      "At random state:- 133\n",
      "Training r2 score is:- 62.23219651389298\n",
      "Testing r2 score is:- 62.2176529227374\n",
      "At random state 236 the model performs well\n",
      "At random state:- 236\n",
      "Training r2 score is:- 62.229681629646464\n",
      "Testing r2 score is:- 62.22720742887302\n",
      "At random state 237 the model performs well\n",
      "At random state:- 237\n",
      "Training r2 score is:- 62.21998254703316\n",
      "Testing r2 score is:- 62.223157647244534\n",
      "At random state 255 the model performs well\n",
      "At random state:- 255\n",
      "Training r2 score is:- 62.219024403646614\n",
      "Testing r2 score is:- 62.173994287665465\n",
      "At random state 320 the model performs well\n",
      "At random state:- 320\n",
      "Training r2 score is:- 62.221998651087176\n",
      "Testing r2 score is:- 62.248819570811634\n",
      "At random state 356 the model performs well\n",
      "At random state:- 356\n",
      "Training r2 score is:- 62.24699445638794\n",
      "Testing r2 score is:- 62.18481773754494\n",
      "At random state 369 the model performs well\n",
      "At random state:- 369\n",
      "Training r2 score is:- 62.23588014110395\n",
      "Testing r2 score is:- 62.24181890679039\n",
      "At random state 481 the model performs well\n",
      "At random state:- 481\n",
      "Training r2 score is:- 62.22786584373714\n",
      "Testing r2 score is:- 62.224857206762486\n",
      "At random state 535 the model performs well\n",
      "At random state:- 535\n",
      "Training r2 score is:- 62.23854838462064\n",
      "Testing r2 score is:- 62.19685323397027\n",
      "At random state 590 the model performs well\n",
      "At random state:- 590\n",
      "Training r2 score is:- 62.24098716737527\n",
      "Testing r2 score is:- 62.216210085808065\n",
      "At random state 635 the model performs well\n",
      "At random state:- 635\n",
      "Training r2 score is:- 62.23488652075504\n",
      "Testing r2 score is:- 62.232670659142464\n",
      "At random state 638 the model performs well\n",
      "At random state:- 638\n",
      "Training r2 score is:- 62.23812406110325\n",
      "Testing r2 score is:- 62.21956264066408\n",
      "At random state 656 the model performs well\n",
      "At random state:- 656\n",
      "Training r2 score is:- 62.2290309215964\n",
      "Testing r2 score is:- 62.230596863391305\n",
      "At random state 677 the model performs well\n",
      "At random state:- 677\n",
      "Training r2 score is:- 62.23742375286099\n",
      "Testing r2 score is:- 62.22783182696232\n",
      "At random state 733 the model performs well\n",
      "At random state:- 733\n",
      "Training r2 score is:- 62.22069005337414\n",
      "Testing r2 score is:- 62.19633833448177\n",
      "At random state 801 the model performs well\n",
      "At random state:- 801\n",
      "Training r2 score is:- 62.24704187310374\n",
      "Testing r2 score is:- 62.17533614875465\n",
      "At random state 803 the model performs well\n",
      "At random state:- 803\n",
      "Training r2 score is:- 62.22695304963102\n",
      "Testing r2 score is:- 62.22669369810625\n",
      "At random state 865 the model performs well\n",
      "At random state:- 865\n",
      "Training r2 score is:- 62.22749463984458\n",
      "Testing r2 score is:- 62.23869148663563\n",
      "At random state 869 the model performs well\n",
      "At random state:- 869\n",
      "Training r2 score is:- 62.23550519127943\n",
      "Testing r2 score is:- 62.24936734925139\n",
      "At random state 934 the model performs well\n",
      "At random state:- 934\n",
      "Training r2 score is:- 62.242950936778875\n",
      "Testing r2 score is:- 62.2184436158878\n"
     ]
    }
   ],
   "source": [
    "for i in range(0,1000):\n",
    "    x_train,x_test,y_train,y_test=train_test_split(x,y,random_state=i,test_size=0.20)\n",
    "    lr.fit(x_train,y_train)\n",
    "    pred_train=lr.predict(x_train)\n",
    "    pred_test=lr.predict(x_test)\n",
    "    if round(r2_score(y_train,pred_train)*100,1)==round(r2_score(y_test,pred_test)*100,1):\n",
    "        print(\"At random state\",i,\"the model performs well\")\n",
    "        print(\"At random state:-\",i)\n",
    "        print(\"Training r2 score is:-\", r2_score(y_train,pred_train)*100)\n",
    "        print(\"Testing r2 score is:-\", r2_score(y_test,pred_test)*100)"
   ]
  },
  {
   "cell_type": "markdown",
   "metadata": {},
   "source": [
    "# Regularization"
   ]
  },
  {
   "cell_type": "markdown",
   "metadata": {},
   "source": [
    "# Lasso"
   ]
  },
  {
   "cell_type": "code",
   "execution_count": 27,
   "metadata": {},
   "outputs": [],
   "source": [
    "from sklearn.linear_model import LinearRegression, Ridge, Lasso"
   ]
  },
  {
   "cell_type": "code",
   "execution_count": 28,
   "metadata": {},
   "outputs": [],
   "source": [
    "from sklearn.model_selection import GridSearchCV\n",
    "from sklearn.model_selection import cross_val_score"
   ]
  },
  {
   "cell_type": "code",
   "execution_count": 29,
   "metadata": {},
   "outputs": [
    {
     "name": "stdout",
     "output_type": "stream",
     "text": [
      "{'alpha': 0.01, 'random_state': 0}\n"
     ]
    }
   ],
   "source": [
    "parameters = {'alpha':[.0001,.01,.1,1,10], 'random_state':list(range(0,10))}\n",
    "ls = Lasso()\n",
    "clf = GridSearchCV(ls,parameters)\n",
    "clf.fit(x_train,y_train)\n",
    "\n",
    "print(clf.best_params_)"
   ]
  },
  {
   "cell_type": "code",
   "execution_count": null,
   "metadata": {},
   "outputs": [],
   "source": []
  },
  {
   "cell_type": "code",
   "execution_count": 30,
   "metadata": {},
   "outputs": [
    {
     "name": "stdout",
     "output_type": "stream",
     "text": [
      "at cv: 70\n",
      "cross val score: 9.047010919490214\n",
      "R2 score: 61.683129680061825\n",
      "at cv: 71\n",
      "cross val score: 9.033210843904662\n",
      "R2 score: 61.683129680061825\n",
      "at cv: 72\n",
      "cross val score: 7.692620741634798\n",
      "R2 score: 61.683129680061825\n",
      "at cv: 73\n",
      "cross val score: 7.695834383175118\n",
      "R2 score: 61.683129680061825\n",
      "at cv: 74\n",
      "cross val score: 7.547398449763329\n",
      "R2 score: 61.683129680061825\n",
      "at cv: 75\n",
      "cross val score: 8.233580048079345\n",
      "R2 score: 61.683129680061825\n",
      "at cv: 76\n",
      "cross val score: 8.473102680631808\n",
      "R2 score: 61.683129680061825\n",
      "at cv: 77\n",
      "cross val score: 8.706499651355518\n",
      "R2 score: 61.683129680061825\n",
      "at cv: 78\n",
      "cross val score: 5.261154678956064\n",
      "R2 score: 61.683129680061825\n",
      "at cv: 79\n",
      "cross val score: 5.874025177675772\n",
      "R2 score: 61.683129680061825\n",
      "at cv: 80\n",
      "cross val score: 4.756933906423782\n",
      "R2 score: 61.683129680061825\n",
      "at cv: 81\n",
      "cross val score: 5.1664013121079915\n",
      "R2 score: 61.683129680061825\n",
      "at cv: 82\n",
      "cross val score: 4.919547491661\n",
      "R2 score: 61.683129680061825\n",
      "at cv: 83\n",
      "cross val score: 5.617839254572704\n",
      "R2 score: 61.683129680061825\n",
      "at cv: 84\n",
      "cross val score: 6.787653957405679\n",
      "R2 score: 61.683129680061825\n",
      "at cv: 85\n",
      "cross val score: 6.96594022041967\n",
      "R2 score: 61.683129680061825\n",
      "at cv: 86\n",
      "cross val score: 6.747810736633832\n",
      "R2 score: 61.683129680061825\n",
      "at cv: 87\n",
      "cross val score: 7.621453758475012\n",
      "R2 score: 61.683129680061825\n",
      "at cv: 88\n",
      "cross val score: 8.045657094437207\n",
      "R2 score: 61.683129680061825\n",
      "at cv: 89\n",
      "cross val score: 6.48580440758616\n",
      "R2 score: 61.683129680061825\n",
      "at cv: 90\n",
      "cross val score: 7.111585389648465\n",
      "R2 score: 61.683129680061825\n",
      "at cv: 91\n",
      "cross val score: 7.077281159450285\n",
      "R2 score: 61.683129680061825\n",
      "at cv: 92\n",
      "cross val score: 6.912678289697297\n",
      "R2 score: 61.683129680061825\n",
      "at cv: 93\n",
      "cross val score: 7.7058428307883595\n",
      "R2 score: 61.683129680061825\n",
      "at cv: 94\n",
      "cross val score: 8.224832401550024\n",
      "R2 score: 61.683129680061825\n",
      "at cv: 95\n",
      "cross val score: 7.201348641085723\n",
      "R2 score: 61.683129680061825\n",
      "at cv: 96\n",
      "cross val score: 7.804621592149951\n",
      "R2 score: 61.683129680061825\n",
      "at cv: 97\n",
      "cross val score: 7.92218073947597\n",
      "R2 score: 61.683129680061825\n",
      "at cv: 98\n",
      "cross val score: 8.109276020147945\n",
      "R2 score: 61.683129680061825\n",
      "at cv: 99\n",
      "cross val score: 9.052091165341396\n",
      "R2 score: 61.683129680061825\n"
     ]
    }
   ],
   "source": [
    "ls= Lasso(alpha=0.01, random_state=0)\n",
    "ls.fit(x_train,y_train)\n",
    "ls.score(x_train,y_train)\n",
    "pred_ls = ls.predict(x_test)\n",
    "\n",
    "lss = r2_score(y_test,pred_ls)\n",
    "for j in range (70,100):\n",
    "    lsscore = cross_val_score(ls,x,y,cv=j)\n",
    "    lsc=lsscore.mean()\n",
    "    print(\"at cv:\",j)\n",
    "    print(\"cross val score:\",lsc*100)\n",
    "    print(\"R2 score:\",lss*100)"
   ]
  },
  {
   "cell_type": "code",
   "execution_count": 31,
   "metadata": {},
   "outputs": [],
   "source": [
    "from sklearn.ensemble import RandomForestRegressor"
   ]
  },
  {
   "cell_type": "code",
   "execution_count": 32,
   "metadata": {},
   "outputs": [],
   "source": [
    "RF=RandomForestRegressor()\n",
    "RF.fit(x_train,y_train)\n",
    "y_pred=RF.predict(x_test)\n",
    "r2score=r2_score(y_test,y_pred)\n",
    "cvscore=cross_val_score(RandomForestRegressor(),x_train,y_train,cv=5).mean()"
   ]
  },
  {
   "cell_type": "code",
   "execution_count": 33,
   "metadata": {},
   "outputs": [],
   "source": [
    "from sklearn.model_selection import train_test_split\n",
    "x_train,x_test,y_train,y_test=train_test_split(x,y,test_size=25,random_state=99)"
   ]
  },
  {
   "cell_type": "code",
   "execution_count": 34,
   "metadata": {},
   "outputs": [
    {
     "data": {
      "text/html": [
       "<div>\n",
       "<style scoped>\n",
       "    .dataframe tbody tr th:only-of-type {\n",
       "        vertical-align: middle;\n",
       "    }\n",
       "\n",
       "    .dataframe tbody tr th {\n",
       "        vertical-align: top;\n",
       "    }\n",
       "\n",
       "    .dataframe thead th {\n",
       "        text-align: right;\n",
       "    }\n",
       "</style>\n",
       "<table border=\"1\" class=\"dataframe\">\n",
       "  <thead>\n",
       "    <tr style=\"text-align: right;\">\n",
       "      <th></th>\n",
       "      <th>original</th>\n",
       "      <th>predicted</th>\n",
       "    </tr>\n",
       "  </thead>\n",
       "  <tbody>\n",
       "    <tr>\n",
       "      <th>0</th>\n",
       "      <td>3.828641</td>\n",
       "      <td>2.373793</td>\n",
       "    </tr>\n",
       "    <tr>\n",
       "      <th>1</th>\n",
       "      <td>0.000000</td>\n",
       "      <td>0.705170</td>\n",
       "    </tr>\n",
       "    <tr>\n",
       "      <th>2</th>\n",
       "      <td>0.000000</td>\n",
       "      <td>0.114337</td>\n",
       "    </tr>\n",
       "    <tr>\n",
       "      <th>3</th>\n",
       "      <td>0.000000</td>\n",
       "      <td>0.026487</td>\n",
       "    </tr>\n",
       "    <tr>\n",
       "      <th>4</th>\n",
       "      <td>0.000000</td>\n",
       "      <td>-0.185626</td>\n",
       "    </tr>\n",
       "    <tr>\n",
       "      <th>5</th>\n",
       "      <td>2.197225</td>\n",
       "      <td>2.480663</td>\n",
       "    </tr>\n",
       "    <tr>\n",
       "      <th>6</th>\n",
       "      <td>3.663562</td>\n",
       "      <td>1.447496</td>\n",
       "    </tr>\n",
       "    <tr>\n",
       "      <th>7</th>\n",
       "      <td>0.000000</td>\n",
       "      <td>2.049245</td>\n",
       "    </tr>\n",
       "    <tr>\n",
       "      <th>8</th>\n",
       "      <td>0.000000</td>\n",
       "      <td>1.734266</td>\n",
       "    </tr>\n",
       "    <tr>\n",
       "      <th>9</th>\n",
       "      <td>0.000000</td>\n",
       "      <td>-0.208096</td>\n",
       "    </tr>\n",
       "    <tr>\n",
       "      <th>10</th>\n",
       "      <td>1.386294</td>\n",
       "      <td>2.887277</td>\n",
       "    </tr>\n",
       "    <tr>\n",
       "      <th>11</th>\n",
       "      <td>0.000000</td>\n",
       "      <td>0.833156</td>\n",
       "    </tr>\n",
       "    <tr>\n",
       "      <th>12</th>\n",
       "      <td>0.000000</td>\n",
       "      <td>1.087661</td>\n",
       "    </tr>\n",
       "    <tr>\n",
       "      <th>13</th>\n",
       "      <td>3.433987</td>\n",
       "      <td>2.863385</td>\n",
       "    </tr>\n",
       "    <tr>\n",
       "      <th>14</th>\n",
       "      <td>0.000000</td>\n",
       "      <td>0.043203</td>\n",
       "    </tr>\n",
       "    <tr>\n",
       "      <th>15</th>\n",
       "      <td>0.000000</td>\n",
       "      <td>2.278628</td>\n",
       "    </tr>\n",
       "    <tr>\n",
       "      <th>16</th>\n",
       "      <td>0.000000</td>\n",
       "      <td>1.118247</td>\n",
       "    </tr>\n",
       "    <tr>\n",
       "      <th>17</th>\n",
       "      <td>0.000000</td>\n",
       "      <td>0.799851</td>\n",
       "    </tr>\n",
       "    <tr>\n",
       "      <th>18</th>\n",
       "      <td>0.000000</td>\n",
       "      <td>0.219394</td>\n",
       "    </tr>\n",
       "    <tr>\n",
       "      <th>19</th>\n",
       "      <td>0.000000</td>\n",
       "      <td>0.488770</td>\n",
       "    </tr>\n",
       "    <tr>\n",
       "      <th>20</th>\n",
       "      <td>0.000000</td>\n",
       "      <td>0.400323</td>\n",
       "    </tr>\n",
       "    <tr>\n",
       "      <th>21</th>\n",
       "      <td>0.000000</td>\n",
       "      <td>0.596713</td>\n",
       "    </tr>\n",
       "    <tr>\n",
       "      <th>22</th>\n",
       "      <td>6.280396</td>\n",
       "      <td>3.793830</td>\n",
       "    </tr>\n",
       "    <tr>\n",
       "      <th>23</th>\n",
       "      <td>0.000000</td>\n",
       "      <td>2.825742</td>\n",
       "    </tr>\n",
       "    <tr>\n",
       "      <th>24</th>\n",
       "      <td>3.091042</td>\n",
       "      <td>1.189215</td>\n",
       "    </tr>\n",
       "  </tbody>\n",
       "</table>\n",
       "</div>"
      ],
      "text/plain": [
       "    original  predicted\n",
       "0   3.828641   2.373793\n",
       "1   0.000000   0.705170\n",
       "2   0.000000   0.114337\n",
       "3   0.000000   0.026487\n",
       "4   0.000000  -0.185626\n",
       "5   2.197225   2.480663\n",
       "6   3.663562   1.447496\n",
       "7   0.000000   2.049245\n",
       "8   0.000000   1.734266\n",
       "9   0.000000  -0.208096\n",
       "10  1.386294   2.887277\n",
       "11  0.000000   0.833156\n",
       "12  0.000000   1.087661\n",
       "13  3.433987   2.863385\n",
       "14  0.000000   0.043203\n",
       "15  0.000000   2.278628\n",
       "16  0.000000   1.118247\n",
       "17  0.000000   0.799851\n",
       "18  0.000000   0.219394\n",
       "19  0.000000   0.488770\n",
       "20  0.000000   0.400323\n",
       "21  0.000000   0.596713\n",
       "22  6.280396   3.793830\n",
       "23  0.000000   2.825742\n",
       "24  3.091042   1.189215"
      ]
     },
     "execution_count": 34,
     "metadata": {},
     "output_type": "execute_result"
    }
   ],
   "source": [
    "import numpy as np\n",
    "a=np.array(y_test)\n",
    "predicted=np.array(lr.predict(x_test))\n",
    "df_com = pd.DataFrame({'original':a,'predicted':predicted}, index= range(len(a)))\n",
    "df_com"
   ]
  },
  {
   "cell_type": "code",
   "execution_count": 35,
   "metadata": {},
   "outputs": [
    {
     "data": {
      "text/plain": [
       "['Project19.pkl']"
      ]
     },
     "execution_count": 35,
     "metadata": {},
     "output_type": "execute_result"
    }
   ],
   "source": [
    "import joblib\n",
    "joblib.dump(RF,\"Project19.pkl\")"
   ]
  },
  {
   "cell_type": "code",
   "execution_count": null,
   "metadata": {},
   "outputs": [],
   "source": []
  }
 ],
 "metadata": {
  "kernelspec": {
   "display_name": "Python 3",
   "language": "python",
   "name": "python3"
  },
  "language_info": {
   "codemirror_mode": {
    "name": "ipython",
    "version": 3
   },
   "file_extension": ".py",
   "mimetype": "text/x-python",
   "name": "python",
   "nbconvert_exporter": "python",
   "pygments_lexer": "ipython3",
   "version": "3.8.3"
  }
 },
 "nbformat": 4,
 "nbformat_minor": 4
}
